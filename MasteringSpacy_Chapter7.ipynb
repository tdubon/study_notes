{
 "cells": [
  {
   "cell_type": "markdown",
   "id": "5c54af8b",
   "metadata": {},
   "source": [
    "# Named Entity Recognition"
   ]
  },
  {
   "cell_type": "code",
   "execution_count": null,
   "id": "e356843c",
   "metadata": {},
   "outputs": [],
   "source": [
    "#Import packages"
   ]
  },
  {
   "cell_type": "code",
   "execution_count": null,
   "id": "377ce2c6",
   "metadata": {},
   "outputs": [],
   "source": [
    "import random\n",
    "import spacy\n",
    "import json\n",
    "from spacy.training import Example\n",
    "\n",
    "nlp = spacy.load(\"en_core_web_md\")"
   ]
  },
  {
   "cell_type": "code",
   "execution_count": null,
   "id": "a6dc4d3d",
   "metadata": {},
   "outputs": [],
   "source": [
    "#Create annotations from text file"
   ]
  },
  {
   "cell_type": "code",
   "execution_count": null,
   "id": "48953a28",
   "metadata": {},
   "outputs": [],
   "source": [
    "open file\n",
    "\n",
    "parse sentences\n",
    "\n",
    "#extract information \n",
    "{\"sentence\": \"xyz\", \"input_hash\": ___, \"_task_hash\": __, \"spans\": [\n",
    "    {\"start\": _, \"end\": _, \"text\": \"word\", \"rank\": number, \"label\": \"labelname\", \n",
    "     \"score\": number, \"source\": \"en_core_web_lg\", \"input_hash\": number}],\n",
    "     \"meta\":{\"score\": numbr}\n",
    "]\n",
    " \"entities\": [(\"label\": \"LOC\" , \"value\": \"JFK Airport\")])\n",
    "    }\n",
    "    \n",
    "save to disk"
   ]
  },
  {
   "cell_type": "code",
   "execution_count": null,
   "id": "7cb0e87e",
   "metadata": {},
   "outputs": [],
   "source": [
    "with open(\"/Users/tdubon/Documents/GitHub/Mastering-spaCy/Chapter07/data/corona.json\") as f:\n",
    "    data = json.loads(f.read())\n",
    "\n",
    "TRAIN_DATA = [] \n",
    "for (text, annotation) in data:\n",
    "    new_anno = []\n",
    "    for anno in annotation[\"entities\"]:\n",
    "        st, end, label = anno\n",
    "        new_anno.append((st, end, label))\n",
    "    TRAIN_DATA.append((text, {\"entities\": new_anno})) "
   ]
  },
  {
   "cell_type": "code",
   "execution_count": null,
   "id": "4cc7ad37",
   "metadata": {},
   "outputs": [],
   "source": [
    "#training data\n",
    "train_set = [(\"Methylphenidate is effectively used in treating children with epilepsy and ADHD.\", \n",
    "              {\"entities\": [(0, 15, \"DRUG\"), (62, 70, \"DISEASE\"), (75, 79, \"DISEASE\")]}),\n",
    "             (\"Patients were followed up for 6 months.\", {\"entities\": []}),\n",
    "             (\"Antichlamydial antibiotics may be useful for curing coronary-artery disease.\", {\"entities\": [(0, 26, \"DRUG\"), (52, 75, \"DIS\")]}) ] \n",
    "\n",
    "#entities to recognize\n",
    "entities = [\"DIS\", \"DRUG\"]\n",
    "\n",
    "#define the labels we need NER to recognize\n",
    "labels = ['Pathogen', 'MedicalCondition', 'Medicine']"
   ]
  },
  {
   "cell_type": "code",
   "execution_count": null,
   "id": "6f01b89a",
   "metadata": {},
   "outputs": [],
   "source": [
    "#create a blank model\n",
    "nlp = spacy.blank(\"en\")\n",
    "ner = nlp.add_pipe(\"ner\")\n",
    "print(ner)\n",
    "print(nlp.meta)"
   ]
  },
  {
   "cell_type": "code",
   "execution_count": null,
   "id": "c4b9dbed",
   "metadata": {},
   "outputs": [],
   "source": [
    "#add defined entity labels to model\n",
    "\n",
    "for ent in labels:\n",
    "    ner.add_label(ent)\n",
    "    print(ner.labels) \n",
    "\n"
   ]
  },
  {
   "cell_type": "code",
   "execution_count": null,
   "id": "e85b98cd",
   "metadata": {},
   "outputs": [],
   "source": [
    "#Disable other pipes\n",
    "other_pipes = [pipe for pipe in nlp.pipe_names if pipe != 'ner']\n",
    "\n",
    "#define update component       \n",
    "with nlp.disable_pipes(*other_pipes):\n",
    "    optimizer = nlp.begin_training()\n",
    "    for i in range(100):\n",
    "        random.shuffle(TRAIN_DATA)\n",
    "        for text, annotation in TRAIN_DATA:\n",
    "            doc = nlp.make_doc(text)\n",
    "            example = Example.from_dict(doc, annotation)\n",
    "            nlp.update([example], sgd=optimizer)"
   ]
  },
  {
   "cell_type": "code",
   "execution_count": null,
   "id": "38c65a2c",
   "metadata": {},
   "outputs": [],
   "source": [
    "nlp.pipe_names"
   ]
  },
  {
   "cell_type": "code",
   "execution_count": null,
   "id": "53fbed83",
   "metadata": {},
   "outputs": [],
   "source": [
    "#Test component containing new training data\n",
    "doc = nlp(\"I had a coronary disease\")\n",
    "print(f\"{doc.ents}, {doc.ents[0].label_}\") "
   ]
  },
  {
   "cell_type": "code",
   "execution_count": null,
   "id": "26fec306",
   "metadata": {},
   "outputs": [],
   "source": [
    "from spacy import displacy \n",
    "\n",
    "doc = nlp(\"I had a coronary disease.\") \n",
    "displacy.render(doc, style=\"ent\") v"
   ]
  },
  {
   "cell_type": "code",
   "execution_count": null,
   "id": "469289c3",
   "metadata": {},
   "outputs": [],
   "source": [
    "doc2 = nlp(\"Pathogenic bacteria contribute to other globally important diseases, such as pneumonia, which can be caused by bacteria such as Streptococcus and Pseudomonas, and foodborne illnesses, which can be caused by bacteria such as Shigella, Campylobacter, and Salmonella.Pathogenic bacteria also cause infections such as tetanus, typhoid fever, diphtheria, syphilis, and leprosy. Pathogenic bacteria are also the cause of high infant mortality rates in developing countries.\") \n",
    "displacy.render(doc2, style=\"ent\") "
   ]
  }
 ],
 "metadata": {
  "kernelspec": {
   "display_name": "Python 3 (ipykernel)",
   "language": "python",
   "name": "python3"
  },
  "language_info": {
   "codemirror_mode": {
    "name": "ipython",
    "version": 3
   },
   "file_extension": ".py",
   "mimetype": "text/x-python",
   "name": "python",
   "nbconvert_exporter": "python",
   "pygments_lexer": "ipython3",
   "version": "3.9.7"
  }
 },
 "nbformat": 4,
 "nbformat_minor": 5
}
