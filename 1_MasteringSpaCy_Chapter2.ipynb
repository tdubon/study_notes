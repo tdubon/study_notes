{
 "cells": [
  {
   "cell_type": "markdown",
   "id": "e6964d12-925c-49da-aa60-024c10072276",
   "metadata": {},
   "source": [
    "# Chapter 2 spaCy Features"
   ]
  },
  {
   "cell_type": "markdown",
   "id": "62051233",
   "metadata": {},
   "source": [
    "## Lemmatization\n",
    "\n",
    "#### A lemma is the base form of a word"
   ]
  },
  {
   "cell_type": "code",
   "execution_count": 3,
   "id": "eaa84e79-46ce-43df-85e5-7e75fadbf409",
   "metadata": {},
   "outputs": [],
   "source": [
    "import spacy\n"
   ]
  },
  {
   "cell_type": "code",
   "execution_count": 4,
   "id": "9bc6f62e-3cd0-46f3-b422-ef5ae2454ffd",
   "metadata": {},
   "outputs": [],
   "source": [
    "nlp = spacy.load(\"en_core_web_sm\")"
   ]
  },
  {
   "cell_type": "code",
   "execution_count": 7,
   "id": "e3783a4c-f5c6-42c0-9570-5940275402f1",
   "metadata": {},
   "outputs": [],
   "source": [
    "doc = nlp(\"I have enjoyed working there for 3 years\")"
   ]
  },
  {
   "cell_type": "code",
   "execution_count": 10,
   "id": "945a74ea-ab94-4f97-b1e3-3f5aeb0d74f3",
   "metadata": {},
   "outputs": [
    {
     "name": "stdout",
     "output_type": "stream",
     "text": [
      "I, lemma: I\n",
      "have, lemma: have\n",
      "enjoyed, lemma: enjoy\n",
      "working, lemma: work\n",
      "there, lemma: there\n",
      "for, lemma: for\n",
      "3, lemma: 3\n",
      "years, lemma: year\n"
     ]
    }
   ],
   "source": [
    "for token in doc:\n",
    "    print(f\"{token.text}, lemma: {token.lemma_}\")"
   ]
  },
  {
   "cell_type": "markdown",
   "id": "6be0aff2-66ed-4858-8fa4-0a42e52754b1",
   "metadata": {},
   "source": [
    "## Tokenization\n",
    "#### Altinok defines it as the smallest unit of a word. Tokenization is the process of saving each unit as a segment within a doc object."
   ]
  },
  {
   "cell_type": "code",
   "execution_count": 1,
   "id": "5c834d87-c18b-4c9b-abc0-0444323af77d",
   "metadata": {},
   "outputs": [],
   "source": [
    "import spacy"
   ]
  },
  {
   "cell_type": "code",
   "execution_count": 2,
   "id": "e223fe4c-e4ec-4dc5-a098-b7de6e80d29c",
   "metadata": {},
   "outputs": [],
   "source": [
    "from spacy.attrs import ORTH, NORM\n",
    "from spacy.tokenizer import Tokenizer"
   ]
  },
  {
   "cell_type": "code",
   "execution_count": 3,
   "id": "8cef7b82-10fc-46e1-ba18-4a4c04160e5e",
   "metadata": {},
   "outputs": [],
   "source": [
    "nlp = spacy.load('en_core_web_sm')"
   ]
  },
  {
   "cell_type": "code",
   "execution_count": 4,
   "id": "54ce1769-d825-4841-8856-200e423e0659",
   "metadata": {},
   "outputs": [],
   "source": [
    "tokenizer = Tokenizer(nlp.vocab)"
   ]
  },
  {
   "cell_type": "code",
   "execution_count": 5,
   "id": "b147c37b-9ae9-4825-89d2-3cce2e88a471",
   "metadata": {},
   "outputs": [],
   "source": [
    "case = [{ORTH: \"do\"}, {ORTH: \"n't\", NORM: \"not\"}]\n",
    "tokenizer.add_special_case(\"don't\", case)"
   ]
  },
  {
   "cell_type": "markdown",
   "id": "c54c863d-1dba-4899-bf1b-6ebf5c14b9e6",
   "metadata": {},
   "source": [
    "### retrievable doc properties"
   ]
  },
  {
   "cell_type": "code",
   "execution_count": 33,
   "id": "ff17c38d-8110-46f2-84de-9950a8c146fc",
   "metadata": {},
   "outputs": [],
   "source": [
    "doc = nlp(u\"I don't like to watch football\")"
   ]
  },
  {
   "cell_type": "code",
   "execution_count": 34,
   "id": "b74836c7-bf1e-4c9f-9c30-94a530eaffab",
   "metadata": {},
   "outputs": [
    {
     "name": "stdout",
     "output_type": "stream",
     "text": [
      "I I\n",
      "do do\n",
      "n't not\n",
      "like like\n",
      "to to\n",
      "watch watch\n",
      "football football\n"
     ]
    }
   ],
   "source": [
    "for token in doc:\n",
    "    print(token.text, token.lemma_)"
   ]
  },
  {
   "cell_type": "code",
   "execution_count": 49,
   "id": "8c105c7f-ae8d-4162-b9ac-00bb06e86b92",
   "metadata": {},
   "outputs": [
    {
     "data": {
      "text/plain": [
       "'I'"
      ]
     },
     "execution_count": 49,
     "metadata": {},
     "output_type": "execute_result"
    }
   ],
   "source": [
    "doc[0].text"
   ]
  },
  {
   "cell_type": "code",
   "execution_count": 38,
   "id": "34adc8a4-6774-4b08-a710-783cfd5ef13a",
   "metadata": {},
   "outputs": [
    {
     "name": "stdout",
     "output_type": "stream",
     "text": [
      "[I don't like to watch football]\n"
     ]
    }
   ],
   "source": [
    "#each sentence is a span object\n",
    "sentences = list(doc.sents)\n",
    "print(sentences)"
   ]
  },
  {
   "cell_type": "code",
   "execution_count": 40,
   "id": "9082852e-453b-4754-9294-a7d2cf2f55f7",
   "metadata": {},
   "outputs": [
    {
     "data": {
      "text/plain": [
       "()"
      ]
     },
     "execution_count": 40,
     "metadata": {},
     "output_type": "execute_result"
    }
   ],
   "source": [
    "doc.ents"
   ]
  },
  {
   "cell_type": "code",
   "execution_count": 42,
   "id": "5ad0ad5a-a904-4931-a3f7-2a03ef3964e2",
   "metadata": {},
   "outputs": [
    {
     "data": {
      "text/plain": [
       "[I, football]"
      ]
     },
     "execution_count": 42,
     "metadata": {},
     "output_type": "execute_result"
    }
   ],
   "source": [
    "list(doc.noun_chunks)"
   ]
  },
  {
   "cell_type": "code",
   "execution_count": 44,
   "id": "43846ab7-cb15-4494-aa40-b40dcaf11194",
   "metadata": {},
   "outputs": [
    {
     "name": "stdout",
     "output_type": "stream",
     "text": [
      "{'text': \"I don't like to watch football\", 'ents': [], 'sents': [{'start': 0, 'end': 30}], 'tokens': [{'id': 0, 'start': 0, 'end': 1, 'tag': 'PRP', 'pos': 'PRON', 'morph': 'Case=Nom|Number=Sing|Person=1|PronType=Prs', 'lemma': 'I', 'dep': 'nsubj', 'head': 3}, {'id': 1, 'start': 2, 'end': 4, 'tag': 'VBP', 'pos': 'AUX', 'morph': 'Mood=Ind|Tense=Pres|VerbForm=Fin', 'lemma': 'do', 'dep': 'aux', 'head': 3}, {'id': 2, 'start': 4, 'end': 7, 'tag': 'RB', 'pos': 'PART', 'morph': 'Polarity=Neg', 'lemma': 'not', 'dep': 'neg', 'head': 3}, {'id': 3, 'start': 8, 'end': 12, 'tag': 'VB', 'pos': 'VERB', 'morph': 'VerbForm=Inf', 'lemma': 'like', 'dep': 'ROOT', 'head': 3}, {'id': 4, 'start': 13, 'end': 15, 'tag': 'TO', 'pos': 'PART', 'morph': '', 'lemma': 'to', 'dep': 'aux', 'head': 5}, {'id': 5, 'start': 16, 'end': 21, 'tag': 'VB', 'pos': 'VERB', 'morph': 'VerbForm=Inf', 'lemma': 'watch', 'dep': 'xcomp', 'head': 3}, {'id': 6, 'start': 22, 'end': 30, 'tag': 'NN', 'pos': 'NOUN', 'morph': 'Number=Sing', 'lemma': 'football', 'dep': 'dobj', 'head': 5}]}\n"
     ]
    }
   ],
   "source": [
    "json_doc = doc.to_json()\n",
    "print(json_doc)"
   ]
  },
  {
   "cell_type": "markdown",
   "id": "debfb606-f478-42e3-8c3f-de1ce2a5ae17",
   "metadata": {},
   "source": [
    "### token properties"
   ]
  },
  {
   "cell_type": "code",
   "execution_count": 68,
   "id": "26983202-fbf7-47ce-b538-8497717022c4",
   "metadata": {},
   "outputs": [
    {
     "name": "stdout",
     "output_type": "stream",
     "text": [
      "token.text: watch\n"
     ]
    }
   ],
   "source": [
    "#each word is a token object\n",
    "print(f\"token.text: {token.text}\")"
   ]
  },
  {
   "cell_type": "code",
   "execution_count": 69,
   "id": "8f113622-8dd1-4415-84a7-69cd1a2da1fa",
   "metadata": {},
   "outputs": [
    {
     "name": "stdout",
     "output_type": "stream",
     "text": [
      "token.text_with_ws: watch \n"
     ]
    }
   ],
   "source": [
    "#token with trailing whitespace\n",
    "print(f\"token.text_with_ws: {token.text_with_ws}\") \n"
   ]
  },
  {
   "cell_type": "code",
   "execution_count": 70,
   "id": "55232564-0d48-4db4-9cab-191703730aaa",
   "metadata": {},
   "outputs": [
    {
     "name": "stdout",
     "output_type": "stream",
     "text": [
      "token.i: 5\n"
     ]
    }
   ],
   "source": [
    "#retrieve the index of the token in doc\n",
    "token = doc[5]\n",
    "print(f\"token.i: {token.i}\")\n"
   ]
  },
  {
   "cell_type": "code",
   "execution_count": 71,
   "id": "254ad5b1-9e04-4d92-a9ce-725c1c8b145e",
   "metadata": {},
   "outputs": [
    {
     "data": {
      "text/plain": [
       "16"
      ]
     },
     "execution_count": 71,
     "metadata": {},
     "output_type": "execute_result"
    }
   ],
   "source": [
    "#gives the token's character's position in the doc\n",
    "token.idx \n",
    " "
   ]
  },
  {
   "cell_type": "code",
   "execution_count": 72,
   "id": "b6886700-457a-4fe5-9ece-6fdfae584348",
   "metadata": {},
   "outputs": [
    {
     "data": {
      "text/plain": [
       "I don't like to watch football"
      ]
     },
     "execution_count": 72,
     "metadata": {},
     "output_type": "execute_result"
    }
   ],
   "source": [
    "#retrieve the document the created the token\n",
    "token.doc \n"
   ]
  },
  {
   "cell_type": "code",
   "execution_count": 73,
   "id": "e5b98825-4361-46ec-928c-9c67f3936a72",
   "metadata": {},
   "outputs": [
    {
     "data": {
      "text/plain": [
       "I don't like to watch football"
      ]
     },
     "execution_count": 73,
     "metadata": {},
     "output_type": "execute_result"
    }
   ],
   "source": [
    "#the sentence that the token belongs to\n",
    "token.sent \n"
   ]
  },
  {
   "cell_type": "code",
   "execution_count": 74,
   "id": "8f4cfc93-6e19-4294-80f5-3553fbc2fc75",
   "metadata": {},
   "outputs": [
    {
     "data": {
      "text/plain": [
       "False"
      ]
     },
     "execution_count": 74,
     "metadata": {},
     "output_type": "execute_result"
    }
   ],
   "source": [
    "#whether the token starts a sentence\n",
    "token.is_sent_start \n"
   ]
  },
  {
   "cell_type": "code",
   "execution_count": 75,
   "id": "e1c32de6-34b2-4b37-b311-cd514a3de1ee",
   "metadata": {},
   "outputs": [
    {
     "data": {
      "text/plain": [
       "''"
      ]
     },
     "execution_count": 75,
     "metadata": {},
     "output_type": "execute_result"
    }
   ],
   "source": [
    "#retrieve entity type for token\n",
    "token.ent_type_"
   ]
  },
  {
   "cell_type": "code",
   "execution_count": 67,
   "id": "34aea89f-c7d1-4f7a-828c-6983f459b78e",
   "metadata": {},
   "outputs": [
    {
     "data": {
      "text/plain": [
       "False"
      ]
     },
     "execution_count": 67,
     "metadata": {},
     "output_type": "execute_result"
    }
   ],
   "source": [
    "token.like_url\n",
    "token.like_num\n",
    "token.like_email"
   ]
  },
  {
   "cell_type": "code",
   "execution_count": 77,
   "id": "b8c169ad-a50d-408c-9141-20d61c08bcfe",
   "metadata": {},
   "outputs": [
    {
     "data": {
      "text/plain": [
       "True"
      ]
     },
     "execution_count": 77,
     "metadata": {},
     "output_type": "execute_result"
    }
   ],
   "source": [
    "#if token is out of vocabulary\n",
    "token.is_oov"
   ]
  },
  {
   "cell_type": "code",
   "execution_count": 78,
   "id": "8a53a477-f401-42ca-ba6b-75623696c2d1",
   "metadata": {},
   "outputs": [
    {
     "name": "stdout",
     "output_type": "stream",
     "text": [
      "I True\n",
      "do True\n",
      "n't True\n",
      "like True\n",
      "to True\n",
      "watch True\n",
      "football True\n"
     ]
    }
   ],
   "source": [
    "for token in doc:\n",
    "    print(token, token.is_oov)"
   ]
  },
  {
   "cell_type": "code",
   "execution_count": 79,
   "id": "31ca2e70-c5f5-4189-8631-71b8352ff3a0",
   "metadata": {},
   "outputs": [
    {
     "name": "stdout",
     "output_type": "stream",
     "text": [
      "I True\n",
      "do True\n",
      "n't True\n",
      "like False\n",
      "to True\n",
      "watch False\n",
      "football False\n"
     ]
    }
   ],
   "source": [
    "#if token is stop word - words that don't carry much meaning\n",
    "for token in doc:\n",
    "    print(token, token.is_stop)"
   ]
  },
  {
   "cell_type": "markdown",
   "id": "86d017b4-b3b0-404a-be0c-eb20bd48eb85",
   "metadata": {},
   "source": [
    "### Span objects contain segments of text, as a sequence of tokens\n",
    "- Slice a doc object\n"
   ]
  },
  {
   "cell_type": "code",
   "execution_count": 41,
   "id": "cc64760d-d474-449c-a923-c80b31b90ef3",
   "metadata": {},
   "outputs": [],
   "source": [
    "doc = nlp(\"I lost myself after I saw you\")"
   ]
  },
  {
   "cell_type": "code",
   "execution_count": null,
   "id": "57f58726",
   "metadata": {},
   "outputs": [],
   "source": [
    "#represent phrases or segments of text - contiguous sequence of tokens\n",
    "doc[1:12]"
   ]
  },
  {
   "cell_type": "code",
   "execution_count": 25,
   "id": "a1d0ad7c-4a97-46d7-93ff-b9d2b771380f",
   "metadata": {},
   "outputs": [],
   "source": [
    "for token in span:\n",
    "    print(token)"
   ]
  },
  {
   "cell_type": "markdown",
   "id": "c5d37dbf",
   "metadata": {},
   "source": [
    "### Other features"
   ]
  },
  {
   "cell_type": "code",
   "execution_count": 48,
   "id": "82789c6a",
   "metadata": {},
   "outputs": [
    {
     "data": {
      "text/plain": [
       "True"
      ]
     },
     "execution_count": 48,
     "metadata": {},
     "output_type": "execute_result"
    }
   ],
   "source": [
    "doc[0].is_upper"
   ]
  },
  {
   "cell_type": "code",
   "execution_count": 49,
   "id": "2e1071d9",
   "metadata": {},
   "outputs": [
    {
     "data": {
      "text/plain": [
       "False"
      ]
     },
     "execution_count": 49,
     "metadata": {},
     "output_type": "execute_result"
    }
   ],
   "source": [
    "doc[0].is_lower"
   ]
  },
  {
   "cell_type": "code",
   "execution_count": 50,
   "id": "cac2fa56",
   "metadata": {},
   "outputs": [
    {
     "data": {
      "text/plain": [
       "True"
      ]
     },
     "execution_count": 50,
     "metadata": {},
     "output_type": "execute_result"
    }
   ],
   "source": [
    "doc[0].is_alpha"
   ]
  },
  {
   "cell_type": "code",
   "execution_count": null,
   "id": "95770088",
   "metadata": {},
   "outputs": [],
   "source": [
    "doc[0].is_digit"
   ]
  },
  {
   "cell_type": "code",
   "execution_count": null,
   "id": "3a6f5dfa",
   "metadata": {},
   "outputs": [],
   "source": [
    "doc[0].is_ascii"
   ]
  },
  {
   "cell_type": "code",
   "execution_count": null,
   "id": "2823283b",
   "metadata": {},
   "outputs": [],
   "source": [
    "doc[0].is_punct"
   ]
  },
  {
   "cell_type": "code",
   "execution_count": null,
   "id": "c647a43a",
   "metadata": {},
   "outputs": [],
   "source": [
    "doc[0].is_space"
   ]
  },
  {
   "cell_type": "code",
   "execution_count": null,
   "id": "2c0c61d4",
   "metadata": {},
   "outputs": [],
   "source": [
    "doc[0].is_bracket"
   ]
  },
  {
   "cell_type": "code",
   "execution_count": null,
   "id": "b690cfb3",
   "metadata": {},
   "outputs": [],
   "source": [
    "doc[0].is_quote"
   ]
  },
  {
   "cell_type": "code",
   "execution_count": null,
   "id": "38320a71",
   "metadata": {},
   "outputs": [],
   "source": [
    "doc[0].is_currency"
   ]
  },
  {
   "cell_type": "code",
   "execution_count": null,
   "id": "0d36d565",
   "metadata": {},
   "outputs": [],
   "source": [
    "doc[0].like_url"
   ]
  },
  {
   "cell_type": "code",
   "execution_count": null,
   "id": "bf8c1f69",
   "metadata": {},
   "outputs": [],
   "source": [
    "doc[0].like_num"
   ]
  },
  {
   "cell_type": "code",
   "execution_count": null,
   "id": "23902f5b",
   "metadata": {},
   "outputs": [],
   "source": [
    "doc[0].like_email"
   ]
  },
  {
   "cell_type": "code",
   "execution_count": 52,
   "id": "aee4abef",
   "metadata": {},
   "outputs": [
    {
     "name": "stdout",
     "output_type": "stream",
     "text": [
      "I, Shape: X\n",
      "lost, Shape: xxxx\n",
      "myself, Shape: xxxx\n",
      "after, Shape: xxxx\n",
      "I, Shape: X\n",
      "saw, Shape: xxx\n",
      "you, Shape: xxx\n"
     ]
    }
   ],
   "source": [
    "for token in doc:\n",
    "    print(f\"{token.text}, Shape: {token.shape_}\")"
   ]
  },
  {
   "cell_type": "code",
   "execution_count": 53,
   "id": "8f3dd020",
   "metadata": {},
   "outputs": [
    {
     "data": {
      "text/plain": [
       "True"
      ]
     },
     "execution_count": 53,
     "metadata": {},
     "output_type": "execute_result"
    }
   ],
   "source": [
    "#out of \"trained\" vocabulary\n",
    "doc[0].is_oov"
   ]
  },
  {
   "cell_type": "code",
   "execution_count": 54,
   "id": "9c3bc258",
   "metadata": {},
   "outputs": [
    {
     "data": {
      "text/plain": [
       "True"
      ]
     },
     "execution_count": 54,
     "metadata": {},
     "output_type": "execute_result"
    }
   ],
   "source": [
    "#stop word are filtered from the vocabulary\n",
    "doc[0].is_stop"
   ]
  },
  {
   "cell_type": "code",
   "execution_count": null,
   "id": "192d445e",
   "metadata": {},
   "outputs": [],
   "source": []
  }
 ],
 "metadata": {
  "kernelspec": {
   "display_name": "Python 3 (ipykernel)",
   "language": "python",
   "name": "python3"
  },
  "language_info": {
   "codemirror_mode": {
    "name": "ipython",
    "version": 3
   },
   "file_extension": ".py",
   "mimetype": "text/x-python",
   "name": "python",
   "nbconvert_exporter": "python",
   "pygments_lexer": "ipython3",
   "version": "3.9.7"
  }
 },
 "nbformat": 4,
 "nbformat_minor": 5
}
